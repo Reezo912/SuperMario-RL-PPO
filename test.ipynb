{
 "cells": [
  {
   "cell_type": "code",
   "execution_count": 1,
   "id": "1dd85dff",
   "metadata": {},
   "outputs": [],
   "source": [
    "# Import the game\n",
    "import gym_super_mario_bros\n",
    "# Import the joypad wrapper\n",
    "from nes_py.wrappers import JoypadSpace\n",
    "# Import the SIMPLIFIED controls\n",
    "from gym_super_mario_bros.actions import SIMPLE_MOVEMENT"
   ]
  },
  {
   "cell_type": "markdown",
   "id": "ae259608",
   "metadata": {},
   "source": [
    "Creo mi environment usando gym_super_mario_bros, esta libreria emula el Super Mario Bros.\n",
    "Ademas usare un entorno de actions reducido con SIMPLE_MOVEMENT\n",
    "\n",
    "Mi idea es entrenar una AI con el primer nivel de Mario y comprobar su rendimiento posterior en niveles aleatorios."
   ]
  },
  {
   "cell_type": "code",
   "execution_count": 2,
   "id": "90829b15",
   "metadata": {},
   "outputs": [],
   "source": [
    "# Codigo para el test\n",
    "# env_test.seed(42)\n",
    "# env_test = gym_super_mario_bros.make('SuperMarioBrosRandomStages-v0', stages=['1-2', '1-3', '1-4', '2-1'])"
   ]
  },
  {
   "cell_type": "code",
   "execution_count": 3,
   "id": "5db3f8cf",
   "metadata": {},
   "outputs": [],
   "source": [
    "env = gym_super_mario_bros.make('SuperMarioBros-1-1-v0')\n",
    "env = JoypadSpace(env, SIMPLE_MOVEMENT)"
   ]
  },
  {
   "cell_type": "code",
   "execution_count": 4,
   "id": "c206ba95",
   "metadata": {},
   "outputs": [
    {
     "data": {
      "text/plain": [
       "Discrete(7)"
      ]
     },
     "execution_count": 4,
     "metadata": {},
     "output_type": "execute_result"
    }
   ],
   "source": [
    "env.action_space"
   ]
  },
  {
   "cell_type": "code",
   "execution_count": 5,
   "id": "65f92f2e",
   "metadata": {},
   "outputs": [
    {
     "name": "stderr",
     "output_type": "stream",
     "text": [
      "c:\\Users\\Carlos\\anaconda3\\envs\\mario_env\\lib\\site-packages\\gym_super_mario_bros\\smb_env.py:148: RuntimeWarning: overflow encountered in scalar subtract\n",
      "  return (self.ram[0x86] - self.ram[0x071c]) % 256\n"
     ]
    }
   ],
   "source": [
    "# Este codigo ejecuta una accion aleatoriamente, codigo de prueba\n",
    "done = True\n",
    "\n",
    "for step in range(5000):\n",
    "    if done:\n",
    "        state = env.reset()\n",
    "    state, reward, done, info = env.step(env.action_space.sample())\n",
    "    env.render()\n",
    "\n",
    "env.close()"
   ]
  },
  {
   "cell_type": "code",
   "execution_count": 6,
   "id": "6b474250",
   "metadata": {},
   "outputs": [
    {
     "data": {
      "text/plain": [
       "{'coins': 0,\n",
       " 'flag_get': False,\n",
       " 'life': 2,\n",
       " 'score': 0,\n",
       " 'stage': 1,\n",
       " 'status': 'small',\n",
       " 'time': 150,\n",
       " 'world': 1,\n",
       " 'x_pos': 594,\n",
       " 'x_pos_screen': 79,\n",
       " 'y_pos': 103}"
      ]
     },
     "execution_count": 6,
     "metadata": {},
     "output_type": "execute_result"
    }
   ],
   "source": [
    "# Mi idea es crear un wrapper mas adelante para modificar mi funcion de reward y anadir recompensas por coger monedas y setas para subir el nivel\n",
    "info"
   ]
  },
  {
   "cell_type": "code",
   "execution_count": 7,
   "id": "60ebcfb7",
   "metadata": {},
   "outputs": [],
   "source": [
    "# Con estos wrappers hare modificaciones a mi imagen para prepararlas para mi AI\n",
    "from gym.wrappers import GrayScaleObservation, ResizeObservation\n",
    "\n",
    "# Importo los dos tipos de vectorizadores para mi entorno\n",
    "# Primero usare DummyVecEnv para conseguir mi primer entrenamiento estable, una vez lo obtenga, pasare a usar SubprocVecEnv para optimizarlo.\n",
    "from stable_baselines3.common.vec_env import DummyVecEnv, SubprocVecEnv, VecFrameStack\n",
    "# Usare el framestack de stable baselines ya que vectoriza directamente\n",
    "\n",
    "# Tambien importare el modelo PPO de stable baselines. De esta manera usare un algoritmo ya implementado para configurar mis rewards y mi entorno\n",
    "from stable_baselines3 import PPO "
   ]
  },
  {
   "cell_type": "code",
   "execution_count": 12,
   "id": "54c24435",
   "metadata": {},
   "outputs": [],
   "source": [
    "# Creo una funcion para inicializar mis env en DummyVecEnv\n",
    "def make_env():\n",
    "    # Inicializo mi env y le paso los comandos de action\n",
    "    env = gym_super_mario_bros.make('SuperMarioBros-1-1-v0')\n",
    "    env = JoypadSpace(env, SIMPLE_MOVEMENT)\n",
    "    # Preparo el preprocesamiento de la imagen\n",
    "    env = GrayScaleObservation(env, keep_dim=True) # Keep dim en True para mantener las dimensiones\n",
    "    env = ResizeObservation(env, shape=(84, 89)) # Esta resolucion es la utilizada normalmente, aunque cambia la relacion de aspecto, solo lo hace ligeramente\n",
    "    return env"
   ]
  },
  {
   "cell_type": "code",
   "execution_count": 13,
   "id": "9abf599c",
   "metadata": {},
   "outputs": [
    {
     "data": {
      "text/plain": [
       "(240, 256, 3)"
      ]
     },
     "execution_count": 13,
     "metadata": {},
     "output_type": "execute_result"
    }
   ],
   "source": [
    "# Compruebo el formato de mi output para ver que todo este correcto\n",
    "state.shape"
   ]
  },
  {
   "cell_type": "code",
   "execution_count": 14,
   "id": "d0a7fe61",
   "metadata": {},
   "outputs": [],
   "source": [
    "env = DummyVecEnv([make_env for _ in range(8)]) # Con esto creare 8 env simultaneos para acelerar el proceso\n",
    "\n",
    "env = VecFrameStack(env, 4, channels_order='last') # Numero de frames que guardare para tener contexto"
   ]
  },
  {
   "cell_type": "code",
   "execution_count": null,
   "id": "95edbfee",
   "metadata": {},
   "outputs": [
    {
     "name": "stdout",
     "output_type": "stream",
     "text": [
      "Using cuda device\n",
      "Wrapping the env in a VecTransposeImage.\n"
     ]
    }
   ],
   "source": [
    "LOG_DIR = './logs/' # Carpeta donde guardare los tensorboard logs\n",
    "\n",
    "model = PPO(\"CnnPolicy\", env=env, verbose=1, tensorboard_log=LOG_DIR, learning_rate=0.000001, n_steps=512)"
   ]
  },
  {
   "cell_type": "code",
   "execution_count": null,
   "id": "050030cf",
   "metadata": {},
   "outputs": [],
   "source": [
    "# TODO Añadir Callback para hacer seguimiento de mi entrenamiento"
   ]
  }
 ],
 "metadata": {
  "kernelspec": {
   "display_name": "mario_env",
   "language": "python",
   "name": "python3"
  },
  "language_info": {
   "codemirror_mode": {
    "name": "ipython",
    "version": 3
   },
   "file_extension": ".py",
   "mimetype": "text/x-python",
   "name": "python",
   "nbconvert_exporter": "python",
   "pygments_lexer": "ipython3",
   "version": "3.10.16"
  }
 },
 "nbformat": 4,
 "nbformat_minor": 5
}
