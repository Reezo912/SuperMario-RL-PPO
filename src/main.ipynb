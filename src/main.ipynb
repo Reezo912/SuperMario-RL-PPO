{
 "cells": [
  {
   "cell_type": "markdown",
   "id": "e07dd227",
   "metadata": {},
   "source": [
    "1. Set up Super Mario"
   ]
  },
  {
   "cell_type": "code",
   "execution_count": 1,
   "id": "81d5d23b",
   "metadata": {},
   "outputs": [],
   "source": [
    "# Import the game\n",
    "import gym_super_mario_bros\n",
    "# Import the joypad wrapper\n",
    "from nes_py.wrappers import JoypadSpace\n",
    "# Import the SIMPLIFIED controls\n",
    "from gym_super_mario_bros.actions import SIMPLE_MOVEMENT"
   ]
  },
  {
   "cell_type": "code",
   "execution_count": null,
   "id": "adedbe39",
   "metadata": {},
   "outputs": [
    {
     "name": "stderr",
     "output_type": "stream",
     "text": [
      "c:\\Users\\Carlos\\anaconda3\\Lib\\site-packages\\gym\\envs\\registration.py:593: UserWarning: \u001b[33mWARN: The environment SuperMarioBros-v1 is out of date. You should consider upgrading to version `v3`.\u001b[0m\n",
      "  logger.warn(\n",
      "c:\\Users\\Carlos\\anaconda3\\Lib\\site-packages\\gym\\core.py:317: DeprecationWarning: \u001b[33mWARN: Initializing wrapper in old step API which returns one bool instead of two. It is recommended to set `new_step_api=True` to use new step API. This will be the default behaviour in future.\u001b[0m\n",
      "  deprecation(\n",
      "c:\\Users\\Carlos\\anaconda3\\Lib\\site-packages\\gym\\wrappers\\step_api_compatibility.py:39: DeprecationWarning: \u001b[33mWARN: Initializing environment in old step API which returns one bool instead of two. It is recommended to set `new_step_api=True` to use new step API. This will be the default behaviour in future.\u001b[0m\n",
      "  deprecation(\n"
     ]
    }
   ],
   "source": [
    "# Setup game\n",
    "env =  gym_super_mario_bros.make('SuperMarioBros-v0')\n",
    "env = JoypadSpace(env, SIMPLE_MOVEMENT)"
   ]
  },
  {
   "cell_type": "code",
   "execution_count": null,
   "id": "5be8b942",
   "metadata": {},
   "outputs": [],
   "source": [
    "# 2. Bucle principal de pasos en el entorno\n",
    "# En la API antigua se esperan 4 valores: observación, recompensa, done, info.\n",
    "done = True  # Inicializamos la variable 'done'\n",
    "\n",
    "for step in range(100000):\n",
    "    # Si el episodio anterior terminó, reiniciamos el entorno\n",
    "    if done:\n",
    "        env.reset()\n",
    "    \n",
    "    # 3. Ejecutamos un paso en el entorno y obtenemos:\n",
    "    #    - state: la nueva observación\n",
    "    #    - reward: la recompensa obtenida\n",
    "    #    - done: indica si el episodio terminó\n",
    "    #    - info: diccionario con información extra del paso\n",
    "    state, reward, done, info = env.step(env.action_space.sample())\n",
    "    \n",
    "    # 4. Renderizamos para visualizar lo que ocurre en la pantalla\n",
    "    env.render()\n",
    "\n",
    "# 5. Cerramos el entorno al finalizar el bucle\n",
    "env.close()"
   ]
  },
  {
   "cell_type": "markdown",
   "id": "ea724d30",
   "metadata": {},
   "source": [
    "2. Preprocess Environment"
   ]
  },
  {
   "cell_type": "markdown",
   "id": "4851bfe3",
   "metadata": {},
   "source": [
    "3. Train the RL Model"
   ]
  },
  {
   "cell_type": "markdown",
   "id": "76423e39",
   "metadata": {},
   "source": [
    "4. Test it out"
   ]
  }
 ],
 "metadata": {
  "kernelspec": {
   "display_name": "base",
   "language": "python",
   "name": "python3"
  },
  "language_info": {
   "codemirror_mode": {
    "name": "ipython",
    "version": 3
   },
   "file_extension": ".py",
   "mimetype": "text/x-python",
   "name": "python",
   "nbconvert_exporter": "python",
   "pygments_lexer": "ipython3",
   "version": "3.12.7"
  }
 },
 "nbformat": 4,
 "nbformat_minor": 5
}
