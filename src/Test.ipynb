{
 "cells": [
  {
   "cell_type": "code",
   "execution_count": null,
   "id": "7484d891",
   "metadata": {},
   "outputs": [],
   "source": [
    "from gym.wrappers import GrayScaleObservation, ResizeObservation, RecordVideo, TimeLimit\n",
    "from stable_baselines3.common.vec_env import DummyVecEnv, VecFrameStack, VecTransposeImage, VecMonitor\n",
    "from nes_py.wrappers import JoypadSpace\n",
    "from gym_super_mario_bros.actions import RIGHT_ONLY\n",
    "from stable_baselines3.common.atari_wrappers import MaxAndSkipEnv\n",
    "from stable_baselines3 import PPO\n",
    "import gym_super_mario_bros\n",
    "import os\n",
    "\n",
   ]
  },
  {
   "cell_type": "code",
   "execution_count": null,
   "id": "0f41befe",
   "metadata": {},
   "outputs": [],
   "source": [
    "def make_recording_env(rank: int = 0, video_folder: str = \"../videos\"):\n",
    "    # Crea carpeta de vídeo\n",
    "    os.makedirs(video_folder, exist_ok=True)\n",
    "    # Entorno base\n",
    "    env = gym_super_mario_bros.make('SuperMarioBros-1-1-v0')\n",
    "    env = JoypadSpace(env, RIGHT_ONLY)\n",
    "    # Grabación en tiempo real (antes de frame-skip)\n",
    "    env = RecordVideo(env, video_folder, episode_trigger=lambda idx: True)\n",
    "    # Luego wrappers idénticos al entrenamiento\n",
    "    env = MaxAndSkipEnv(env, skip=4)\n",
    "    #env = MarioRewardWrapper(env, factor=0.03, goal_bonus=100, death_penalty=-50, max_steps=10_000)\n",
    "    env = GrayScaleObservation(env, keep_dim=True)\n",
    "    env = ResizeObservation(env, (84, 84))\n",
    "    env.seed(42 + rank)\n",
    "    return env"
   ]
  },
  {
   "cell_type": "code",
   "execution_count": null,
   "id": "34c430ba",
   "metadata": {},
   "outputs": [],
   "source": [
    "model = PPO.load(\"../models/best/best_model_reward_shape.zip\")\n",
    "\n",
    "# DummyVecEnv para evaluación (un solo env con grabación)\n",
    "record_env = DummyVecEnv([lambda: make_recording_env(rank=1, video_folder=\"../videos\")])\n",
    "# Monitorea episodios vectorizados correctamente\n",
    "record_env = VecMonitor(record_env)\n",
    "# Aplica frame-stack y transpose para el modelo\n",
    "record_env = VecFrameStack(record_env, n_stack=4, channels_order='last')\n",
    "record_env = VecTransposeImage(record_env)"
   ]
  },
  {
   "cell_type": "code",
   "execution_count": null,
   "id": "cf215f08",
   "metadata": {},
   "outputs": [],
   "source": [
    "obs = record_env.reset()\n",
    "for _ in range(10_000):  # suficientes pasos para un episodio\n",
    "    action, _ = model.predict(obs, deterministic=True)\n",
    "    obs, reward, done, info = record_env.step(action)\n",
    "    if done:\n",
    "        obs = record_env.reset()\n",
    "\n",
    "record_env.close()"
   ]
  }
 ],
 "metadata": {
  "kernelspec": {
   "display_name": "mario_env",
   "language": "python",
   "name": "python3"
  },
  "language_info": {
   "codemirror_mode": {
    "name": "ipython",
    "version": 3
   },
   "file_extension": ".py",
   "mimetype": "text/x-python",
   "name": "python",
   "nbconvert_exporter": "python",
   "pygments_lexer": "ipython3",
   "version": "3.10.16"
  }
 },
 "nbformat": 4,
 "nbformat_minor": 5
}
