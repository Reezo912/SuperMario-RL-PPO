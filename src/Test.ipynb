{
 "cells": [
  {
   "cell_type": "code",
   "execution_count": 5,
   "id": "7484d891",
   "metadata": {},
   "outputs": [],
   "source": [
    "from gym.wrappers import GrayScaleObservation, ResizeObservation, RecordVideo, TimeLimit\n",
    "from stable_baselines3.common.vec_env import DummyVecEnv, VecFrameStack, VecTransposeImage, VecMonitor\n",
    "from nes_py.wrappers import JoypadSpace\n",
    "from gym_super_mario_bros.actions import RIGHT_ONLY\n",
    "from stable_baselines3.common.atari_wrappers import MaxAndSkipEnv\n",
    "from stable_baselines3 import PPO\n",
    "import gym_super_mario_bros\n",
    "import os\n",
    "\n",
    "#from TestScript import MarioRewardWrapper  # tu wrapper personalizado"
   ]
  },
  {
   "cell_type": "code",
   "execution_count": 6,
   "id": "0f41befe",
   "metadata": {},
   "outputs": [],
   "source": [
    "def make_recording_env(rank: int = 0, video_folder: str = \"../videos\"):\n",
    "    # Crea carpeta de vídeo\n",
    "    os.makedirs(video_folder, exist_ok=True)\n",
    "    # Entorno base\n",
    "    env = gym_super_mario_bros.make('SuperMarioBros-1-1-v0')\n",
    "    env = JoypadSpace(env, RIGHT_ONLY)\n",
    "    # Grabación en tiempo real (antes de frame-skip)\n",
    "    env = RecordVideo(env, video_folder, episode_trigger=lambda idx: True)\n",
    "    # Luego wrappers idénticos al entrenamiento\n",
    "    env = MaxAndSkipEnv(env, skip=4)\n",
    "    #env = MarioRewardWrapper(env, factor=0.03, goal_bonus=100, death_penalty=-50, max_steps=10_000)\n",
    "    env = GrayScaleObservation(env, keep_dim=True)\n",
    "    env = ResizeObservation(env, (84, 84))\n",
    "    env.seed(42 + rank)\n",
    "    return env"
   ]
  },
  {
   "cell_type": "code",
   "execution_count": 7,
   "id": "34c430ba",
   "metadata": {},
   "outputs": [
    {
     "name": "stderr",
     "output_type": "stream",
     "text": [
      "c:\\Users\\Carlos\\anaconda3\\envs\\mario_env\\lib\\site-packages\\stable_baselines3\\common\\save_util.py:435: FutureWarning: You are using `torch.load` with `weights_only=False` (the current default value), which uses the default pickle module implicitly. It is possible to construct malicious pickle data which will execute arbitrary code during unpickling (See https://github.com/pytorch/pytorch/blob/main/SECURITY.md#untrusted-models for more details). In a future release, the default value for `weights_only` will be flipped to `True`. This limits the functions that could be executed during unpickling. Arbitrary objects will no longer be allowed to be loaded via this mode unless they are explicitly allowlisted by the user via `torch.serialization.add_safe_globals`. We recommend you start setting `weights_only=True` for any use case where you don't have full control of the loaded file. Please open an issue on GitHub for any issues related to this experimental feature.\n",
      "  th_object = th.load(file_content, map_location=device)\n"
     ]
    }
   ],
   "source": [
    "model = PPO.load(\"../models/checkpoints/mario_ppo_6100000_steps.zip\")\n",
    "\n",
    "# DummyVecEnv para evaluación (un solo env con grabación)\n",
    "record_env = DummyVecEnv([lambda: make_recording_env(rank=1, video_folder=\"../videos\")])\n",
    "# Monitorea episodios vectorizados correctamente\n",
    "record_env = VecMonitor(record_env)\n",
    "# Aplica frame-stack y transpose para el modelo\n",
    "record_env = VecFrameStack(record_env, n_stack=4, channels_order='last')\n",
    "record_env = VecTransposeImage(record_env)"
   ]
  },
  {
   "cell_type": "code",
   "execution_count": 8,
   "id": "cf215f08",
   "metadata": {},
   "outputs": [],
   "source": [
    "obs = record_env.reset()\n",
    "for _ in range(10_000):  # suficientes pasos para un episodio\n",
    "    action, _ = model.predict(obs, deterministic=True)\n",
    "    obs, reward, done, info = record_env.step(action)\n",
    "    if done:\n",
    "        obs = record_env.reset()\n",
    "\n",
    "record_env.close()"
   ]
  }
 ],
 "metadata": {
  "kernelspec": {
   "display_name": "mario_env",
   "language": "python",
   "name": "python3"
  },
  "language_info": {
   "codemirror_mode": {
    "name": "ipython",
    "version": 3
   },
   "file_extension": ".py",
   "mimetype": "text/x-python",
   "name": "python",
   "nbconvert_exporter": "python",
   "pygments_lexer": "ipython3",
   "version": "3.10.16"
  }
 },
 "nbformat": 4,
 "nbformat_minor": 5
}
